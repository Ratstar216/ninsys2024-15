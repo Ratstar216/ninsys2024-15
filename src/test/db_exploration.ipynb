{
 "cells": [
  {
   "cell_type": "code",
   "execution_count": 1,
   "metadata": {},
   "outputs": [
    {
     "name": "stdout",
     "output_type": "stream",
     "text": [
      "\u001b[2mUsing Python 3.13.1 environment at: /Users/ponta/ninsys15/.venv\u001b[0m\n",
      "Package           Version\n",
      "----------------- -----------\n",
      "appnope           0.1.4\n",
      "asttokens         3.0.0\n",
      "comm              0.2.2\n",
      "contourpy         1.3.1\n",
      "cycler            0.12.1\n",
      "debugpy           1.8.11\n",
      "decorator         5.1.1\n",
      "executing         2.1.0\n",
      "fonttools         4.55.3\n",
      "ipykernel         6.29.5\n",
      "ipython           8.31.0\n",
      "jedi              0.19.2\n",
      "jupyter-client    8.6.3\n",
      "jupyter-core      5.7.2\n",
      "kiwisolver        1.4.8\n",
      "matplotlib        3.10.0\n",
      "matplotlib-inline 0.1.7\n",
      "nest-asyncio      1.6.0\n",
      "numpy             2.2.1\n",
      "opencv-python     4.10.0.84\n",
      "packaging         24.2\n",
      "parso             0.8.4\n",
      "pexpect           4.9.0\n",
      "pillow            11.1.0\n",
      "platformdirs      4.3.6\n",
      "prompt-toolkit    3.0.48\n",
      "psutil            6.1.1\n",
      "ptyprocess        0.7.0\n",
      "pure-eval         0.2.3\n",
      "pygments          2.19.1\n",
      "pyparsing         3.2.1\n",
      "python-dateutil   2.9.0.post0\n",
      "pyzbar            0.1.9\n",
      "pyzmq             26.2.0\n",
      "qrcode            8.0\n",
      "six               1.17.0\n",
      "stack-data        0.6.3\n",
      "tornado           6.4.2\n",
      "traitlets         5.14.3\n",
      "wcwidth           0.2.13\n"
     ]
    }
   ],
   "source": [
    "!uv pip list"
   ]
  },
  {
   "cell_type": "code",
   "execution_count": 43,
   "metadata": {},
   "outputs": [],
   "source": [
    "import sqlite3"
   ]
  },
  {
   "cell_type": "code",
   "execution_count": 44,
   "metadata": {},
   "outputs": [],
   "source": [
    "conn = sqlite3.connect('../../test.db')\n",
    "cursor = conn.cursor()"
   ]
  },
  {
   "cell_type": "code",
   "execution_count": 45,
   "metadata": {},
   "outputs": [
    {
     "name": "stdout",
     "output_type": "stream",
     "text": [
      "[(1234, 'Alice', 30), (1678, 'Bob', 25), (1999, 'Charlie', 100), (2357, 'Gandalf', 1000)]\n",
      "[(2334, '線形代数入門'), (2558, '解析入門'), (2953, 'And then there were none'), (9999, '解析力学')]\n",
      "[(1, 2357, 2334, '2025-01-01 10:00:00', 35.6812, 139.7671), (2, 2357, 2558, '2025-01-02 10:00:00', 35.6895, 139.6917), (3, 2357, 9999, '2025-01-03 10:00:00', 35.7295, 139.7114)]\n",
      "[(1111, 0, None), (1234, 0, None), (1678, 0, None), (1999, 0, None), (2357, 0, 9999)]\n"
     ]
    }
   ],
   "source": [
    "cursor.execute('SELECT * FROM users')\n",
    "rows = cursor.fetchall()\n",
    "print(rows)\n",
    "cursor.execute('SELECT * FROM books')\n",
    "rows = cursor.fetchall()\n",
    "print(rows)\n",
    "cursor.execute('SELECT * FROM history')\n",
    "rows = cursor.fetchall()\n",
    "print(rows)\n",
    "# cursor.execute('UPDATE user_status SET borrowed_books = ? WHERE id = ?', (None, 2357))\n",
    "# cursor.execute('UPDATE user_status SET borrowed_books = ? WHERE id = ?', (9999, 2357))\n",
    "cursor.execute('SELECT * FROM user_status')\n",
    "\n",
    "rows = cursor.fetchall()\n",
    "print(rows)\n"
   ]
  },
  {
   "cell_type": "code",
   "execution_count": 9,
   "metadata": {},
   "outputs": [
    {
     "ename": "OperationalError",
     "evalue": "database is locked",
     "output_type": "error",
     "traceback": [
      "\u001b[0;31m---------------------------------------------------------------------------\u001b[0m",
      "\u001b[0;31mOperationalError\u001b[0m                          Traceback (most recent call last)",
      "Cell \u001b[0;32mIn[9], line 1\u001b[0m\n\u001b[0;32m----> 1\u001b[0m \u001b[43mcursor\u001b[49m\u001b[38;5;241;43m.\u001b[39;49m\u001b[43mexecute\u001b[49m\u001b[43m(\u001b[49m\u001b[38;5;124;43m'\u001b[39;49m\u001b[38;5;124;43mDELETE FROM users WHERE id = 2357\u001b[39;49m\u001b[38;5;124;43m'\u001b[39;49m\u001b[43m)\u001b[49m\n",
      "\u001b[0;31mOperationalError\u001b[0m: database is locked"
     ]
    }
   ],
   "source": [
    "cursor.execute('INSERT INTO books (id, name) VALUES (?, ?)', (1999, \"憎悪の依頼\"))"
   ]
  },
  {
   "cell_type": "code",
   "execution_count": 5,
   "metadata": {},
   "outputs": [
    {
     "name": "stdout",
     "output_type": "stream",
     "text": [
      "線形代数入門\n"
     ]
    }
   ],
   "source": [
    "cursor.execute('SELECT name FROM books WHERE id = 2334')\n",
    "res = cursor.fetchone()\n",
    "print(res[0])"
   ]
  },
  {
   "cell_type": "code",
   "execution_count": 24,
   "metadata": {},
   "outputs": [
    {
     "name": "stdout",
     "output_type": "stream",
     "text": [
      "[(2334, '線形代数入門'), (2558, '解析入門'), (2953, 'And then there were none')]\n"
     ]
    }
   ],
   "source": [
    "cursor.execute('SELECT * FROM books')\n",
    "a = cursor.fetchall()\n"
   ]
  },
  {
   "cell_type": "code",
   "execution_count": 4,
   "metadata": {},
   "outputs": [
    {
     "data": {
      "text/plain": [
       "<sqlite3.Cursor at 0x10885bdc0>"
      ]
     },
     "execution_count": 4,
     "metadata": {},
     "output_type": "execute_result"
    }
   ],
   "source": [
    "# cursor.execute('DROP TABLE history')\n"
   ]
  },
  {
   "cell_type": "code",
   "execution_count": 9,
   "metadata": {},
   "outputs": [
    {
     "name": "stdout",
     "output_type": "stream",
     "text": [
      "1234 Alice\n"
     ]
    }
   ],
   "source": [
    "cursor.execute('SELECT id, name FROM users WHERE id = 1234')\n",
    "a = cursor.fetchone()\n",
    "id, name = a   \n",
    "print(id, name)"
   ]
  },
  {
   "cell_type": "code",
   "execution_count": null,
   "metadata": {},
   "outputs": [],
   "source": []
  }
 ],
 "metadata": {
  "kernelspec": {
   "display_name": ".venv",
   "language": "python",
   "name": "python3"
  },
  "language_info": {
   "codemirror_mode": {
    "name": "ipython",
    "version": 3
   },
   "file_extension": ".py",
   "mimetype": "text/x-python",
   "name": "python",
   "nbconvert_exporter": "python",
   "pygments_lexer": "ipython3",
   "version": "3.13.1"
  }
 },
 "nbformat": 4,
 "nbformat_minor": 2
}
